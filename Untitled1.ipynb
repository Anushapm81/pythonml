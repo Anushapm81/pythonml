{
  "nbformat": 4,
  "nbformat_minor": 0,
  "metadata": {
    "colab": {
      "provenance": []
    },
    "kernelspec": {
      "name": "python3",
      "display_name": "Python 3"
    },
    "language_info": {
      "name": "python"
    }
  },
  "cells": [
    {
      "cell_type": "code",
      "execution_count": null,
      "metadata": {
        "id": "Mw8pHXDz7oS0"
      },
      "outputs": [],
      "source": []
    },
    {
      "cell_type": "code",
      "source": [
        "coordinates =(10,20)\n",
        "rgb_color =(225,128,0)\n",
        "person_info=(\"alice\",25,\"engineer\",True)"
      ],
      "metadata": {
        "id": "KTFvl6hk_TST"
      },
      "execution_count": null,
      "outputs": []
    },
    {
      "cell_type": "code",
      "source": [
        "x,y=coordinates\n",
        "print(f\"x:{x},y:{y}\")"
      ],
      "metadata": {
        "colab": {
          "base_uri": "https://localhost:8080/"
        },
        "id": "8lUoWRm-_x4U",
        "outputId": "071ba5c9-198e-451e-a816-00d7e13c54be"
      },
      "execution_count": null,
      "outputs": [
        {
          "output_type": "stream",
          "name": "stdout",
          "text": [
            "x:10,y:20\n"
          ]
        }
      ]
    },
    {
      "cell_type": "code",
      "source": [
        "print(f\"count of 25:{person_info.count(25)}\")\n",
        "print(f\"index of 'engineer':{person_info.index('engineer')}\")"
      ],
      "metadata": {
        "colab": {
          "base_uri": "https://localhost:8080/",
          "height": 176
        },
        "id": "0gWsi2cnAC7i",
        "outputId": "1637bdca-7f10-447d-ad39-de735785ad42"
      },
      "execution_count": null,
      "outputs": [
        {
          "output_type": "stream",
          "name": "stdout",
          "text": [
            "count of 25:1\n"
          ]
        },
        {
          "output_type": "error",
          "ename": "ValueError",
          "evalue": "tuple.index(x): x not in tuple",
          "traceback": [
            "\u001b[0;31m---------------------------------------------------------------------------\u001b[0m",
            "\u001b[0;31mValueError\u001b[0m                                Traceback (most recent call last)",
            "\u001b[0;32m/tmp/ipython-input-3501741291.py\u001b[0m in \u001b[0;36m<cell line: 0>\u001b[0;34m()\u001b[0m\n\u001b[1;32m      1\u001b[0m \u001b[0mprint\u001b[0m\u001b[0;34m(\u001b[0m\u001b[0;34mf\"count of 25:{person_info.count(25)}\"\u001b[0m\u001b[0;34m)\u001b[0m\u001b[0;34m\u001b[0m\u001b[0;34m\u001b[0m\u001b[0m\n\u001b[0;32m----> 2\u001b[0;31m \u001b[0mprint\u001b[0m\u001b[0;34m(\u001b[0m\u001b[0;34mf\"index of 'engineer':{person_info.index('engineer')}\"\u001b[0m\u001b[0;34m)\u001b[0m\u001b[0;34m\u001b[0m\u001b[0;34m\u001b[0m\u001b[0m\n\u001b[0m",
            "\u001b[0;31mValueError\u001b[0m: tuple.index(x): x not in tuple"
          ]
        }
      ]
    },
    {
      "cell_type": "code",
      "source": [],
      "metadata": {
        "id": "XMgH4ZduAme8"
      },
      "execution_count": null,
      "outputs": []
    },
    {
      "cell_type": "code",
      "source": [
        "person = {\n",
        "    \"name\":\"anu\",\n",
        "    \"age\":23,\n",
        "    \"profession\":\"software engineer\",\n",
        "    \"salary\":75000,\n",
        "    \"skills\":{\"python\",\"javascript\",\"sql\"}\n",
        "}"
      ],
      "metadata": {
        "id": "-3g1Yuf-B3Ny"
      },
      "execution_count": null,
      "outputs": []
    },
    {
      "cell_type": "code",
      "source": [
        "print(f\"Name:{person['name']}\")\n",
        "print(f\"age:{person.get('age','unknown')}')\")"
      ],
      "metadata": {
        "colab": {
          "base_uri": "https://localhost:8080/"
        },
        "id": "sWhpeDdHE_Ei",
        "outputId": "d0563a8c-883f-421a-c439-07f755db02ee"
      },
      "execution_count": null,
      "outputs": [
        {
          "output_type": "stream",
          "name": "stdout",
          "text": [
            "Name:anu\n",
            "age:23')\n"
          ]
        }
      ]
    },
    {
      "cell_type": "code",
      "source": [
        "print(f\"keys:{list(person.keys())}\")\n",
        "print(f\"values:{list(person.values())}\")\n",
        "print(f\"items:{list(person.items())}\")"
      ],
      "metadata": {
        "colab": {
          "base_uri": "https://localhost:8080/"
        },
        "id": "-8Dp13pAFuWp",
        "outputId": "19495a23-f0ff-4c1c-dda7-bf7bb3b6ec06"
      },
      "execution_count": null,
      "outputs": [
        {
          "output_type": "stream",
          "name": "stdout",
          "text": [
            "keys:['name', 'age', 'profession', 'salary', 'skills', 'location']\n",
            "values:['anu', 23, 'software engineer', 80000, {'javascript', 'python', 'sql'}, 'new york']\n",
            "items:[('name', 'anu'), ('age', 23), ('profession', 'software engineer'), ('salary', 80000), ('skills', {'javascript', 'python', 'sql'}), ('location', 'new york')]\n"
          ]
        }
      ]
    },
    {
      "cell_type": "code",
      "source": [
        "person[\"location\"]=\"new york\"\n",
        "person[\"salary\"]=80000"
      ],
      "metadata": {
        "id": "JvHENYv2GOCS"
      },
      "execution_count": null,
      "outputs": []
    },
    {
      "cell_type": "code",
      "source": [
        "innventory={\n",
        "    \"laptops\":{\n",
        "        \"quantity\":50,\n",
        "        \"price\":999.99\n",
        "    },\n",
        "    \"phones\":{\n",
        "        \"quantity\":100,\n",
        "        \"price\":599.99\n",
        "    },\n",
        "    \"tablets\":{\n",
        "        \"quantity\":30,\n",
        "        \"price\":399.99\n",
        "    }\n",
        "}"
      ],
      "metadata": {
        "id": "pl2HpUUxGeSR"
      },
      "execution_count": null,
      "outputs": []
    },
    {
      "cell_type": "code",
      "source": [
        "print(f\"laptops price:${innventory['laptops']['price']}\")\n"
      ],
      "metadata": {
        "colab": {
          "base_uri": "https://localhost:8080/"
        },
        "id": "Nf4hJ-bKI2Cy",
        "outputId": "e9785f11-c194-4d56-8e11-9a09feff633d"
      },
      "execution_count": null,
      "outputs": [
        {
          "output_type": "stream",
          "name": "stdout",
          "text": [
            "laptops price:$999.99\n"
          ]
        }
      ]
    },
    {
      "cell_type": "code",
      "source": [],
      "metadata": {
        "id": "NZccBXlPJPlR"
      },
      "execution_count": null,
      "outputs": []
    },
    {
      "cell_type": "code",
      "source": [],
      "metadata": {
        "id": "ysPj04ltJjFq"
      },
      "execution_count": null,
      "outputs": []
    },
    {
      "cell_type": "markdown",
      "source": [
        "sets"
      ],
      "metadata": {
        "id": "m_gQtX3CJhSJ"
      }
    },
    {
      "cell_type": "code",
      "source": [],
      "metadata": {
        "id": "n5Mxtx1BJiYB"
      },
      "execution_count": null,
      "outputs": []
    },
    {
      "cell_type": "code",
      "source": [
        "colors={\"red\",\"green\",\"blue\",'red'}\n",
        "print(f\"color:{colors}\")"
      ],
      "metadata": {
        "colab": {
          "base_uri": "https://localhost:8080/"
        },
        "id": "0Sz_nkHSJkja",
        "outputId": "efbea276-86d0-4e23-8669-4c7df62daa8c"
      },
      "execution_count": null,
      "outputs": [
        {
          "output_type": "stream",
          "name": "stdout",
          "text": [
            "color:{'blue', 'green', 'red'}\n"
          ]
        }
      ]
    },
    {
      "cell_type": "code",
      "source": [],
      "metadata": {
        "id": "2Kskqx_TJ1Ep"
      },
      "execution_count": null,
      "outputs": []
    },
    {
      "cell_type": "code",
      "source": [
        "team1_skills={\"python\",\"js\",\"sql\",\"react\"}\n",
        "team2_skills={\"js\",\"sql\",\"java\",\"spring\"}"
      ],
      "metadata": {
        "id": "2043KqeuKBTS"
      },
      "execution_count": null,
      "outputs": []
    },
    {
      "cell_type": "code",
      "source": [
        "print(f\"comman_skills:{team1_skills.intersection(team2_skills)}\")\n",
        "print(f\"all_skills:{team1_skills.union(team2_skills)}\")\n",
        "print(f\"team1 only:{team1_skills.difference(team2_skills)}\")"
      ],
      "metadata": {
        "colab": {
          "base_uri": "https://localhost:8080/"
        },
        "id": "11TWogVqKbbt",
        "outputId": "effbb47d-cc50-402c-ffc4-24396e4fb62c"
      },
      "execution_count": null,
      "outputs": [
        {
          "output_type": "stream",
          "name": "stdout",
          "text": [
            "comman_skills:{'js', 'sql'}\n",
            "all_skills:{'js', 'sql', 'python', 'java', 'spring', 'react'}\n",
            "team1 only:{'python', 'react'}\n"
          ]
        }
      ]
    },
    {
      "cell_type": "code",
      "source": [
        "colors.add(\"yellow\")\n",
        "colors.update([\"purple\",\"orange\"])\n",
        "print(f\"updated colors:{colors}\")"
      ],
      "metadata": {
        "colab": {
          "base_uri": "https://localhost:8080/"
        },
        "id": "OpHzZeaCK_W2",
        "outputId": "87e5a3b1-ccc1-4748-c77e-f6c346eb64fa"
      },
      "execution_count": null,
      "outputs": [
        {
          "output_type": "stream",
          "name": "stdout",
          "text": [
            "updated colors:{'purple', 'yellow', 'orange', 'blue', 'green', 'red'}\n"
          ]
        }
      ]
    },
    {
      "cell_type": "code",
      "source": [
        "def get_grade_letter(score):\n",
        "   if score >= 90:\n",
        "      return \"A\"\n",
        "   elif score >= 80:\n",
        "      return \"B\"\n",
        "   elif score >= 70:\n",
        "        return \"C\"\n",
        "   else:\n",
        "         return\"F\""
      ],
      "metadata": {
        "id": "9pfCCXGGMC_S"
      },
      "execution_count": null,
      "outputs": []
    },
    {
      "cell_type": "code",
      "source": [],
      "metadata": {
        "id": "n191JQviQlwh"
      },
      "execution_count": null,
      "outputs": []
    },
    {
      "cell_type": "code",
      "source": [
        "test_scores = [95,83,72,65,58]\n",
        "for score in test_scores:\n",
        "  grade = get_grade_letter(score)\n",
        "  print(f\"score:{score}:grade {grade}\")"
      ],
      "metadata": {
        "colab": {
          "base_uri": "https://localhost:8080/"
        },
        "id": "Bvkz0xJWShXh",
        "outputId": "0cc07263-d7e5-4536-cb2a-799a5b9851c8"
      },
      "execution_count": null,
      "outputs": [
        {
          "output_type": "stream",
          "name": "stdout",
          "text": [
            "score:95:grade A\n",
            "score:83:grade B\n",
            "score:72:grade C\n",
            "score:65:grade F\n",
            "score:58:grade F\n"
          ]
        }
      ]
    },
    {
      "cell_type": "code",
      "source": [
        "def get_shipping_cost(weight, distance):\n",
        "  base_cost = 5.0\n",
        "\n",
        "  if weight <= 1:\n",
        "      weight_cost = 2.0\n",
        "  elif weight <= 5:\n",
        "      weight_cost =5.0\n",
        "  else:\n",
        "      weight_cost = 10.0\n",
        "\n",
        "  if distance <= 100:\n",
        "      distance_cost = 1.0\n",
        "  elif distance <= 500:\n",
        "      distance_cost =3.0\n",
        "  else:\n",
        "      distance_cost =7.0\n",
        "  return base_cost + weight_cost + distance_cost"
      ],
      "metadata": {
        "id": "1hjeAacHTApx"
      },
      "execution_count": null,
      "outputs": []
    },
    {
      "cell_type": "code",
      "source": [
        "print(f\"light, close: ${get_shipping_cost(0.5,50)}\")\n",
        "print(f\"heavy, far: ${get_shipping_cost(10,800)}\")"
      ],
      "metadata": {
        "colab": {
          "base_uri": "https://localhost:8080/"
        },
        "id": "C023ub3yUnQ5",
        "outputId": "a4b8349b-a774-4eab-c566-26d83608e78c"
      },
      "execution_count": null,
      "outputs": [
        {
          "output_type": "stream",
          "name": "stdout",
          "text": [
            "light, close: $8.0\n",
            "heavy, far: $22.0\n"
          ]
        }
      ]
    },
    {
      "cell_type": "code",
      "source": [
        "fruits = [\"apple\",\"banana\",\"orange\",\"graphe\"]\n",
        "for fruit in fruits:\n",
        "  print(f\"i like {fruit}\")"
      ],
      "metadata": {
        "colab": {
          "base_uri": "https://localhost:8080/"
        },
        "id": "xXu5CyInWGDp",
        "outputId": "19112de3-c218-41df-f078-23d365a80ec7"
      },
      "execution_count": null,
      "outputs": [
        {
          "output_type": "stream",
          "name": "stdout",
          "text": [
            "i like apple\n",
            "i like banana\n",
            "i like orange\n",
            "i like graphe\n"
          ]
        }
      ]
    },
    {
      "cell_type": "code",
      "source": [
        "for i,fruit in enumerate(fruits):\n",
        "  print(f\"{i+1}, {fruit}\")"
      ],
      "metadata": {
        "colab": {
          "base_uri": "https://localhost:8080/"
        },
        "id": "v7Euf0SZWt7Z",
        "outputId": "fca7a2c1-0e20-4e08-86c3-22639873e75d"
      },
      "execution_count": null,
      "outputs": [
        {
          "output_type": "stream",
          "name": "stdout",
          "text": [
            "1, apple\n",
            "2, banana\n",
            "3, orange\n",
            "4, graphe\n"
          ]
        }
      ]
    },
    {
      "cell_type": "code",
      "source": [
        "for day in range(2,8):\n",
        "  print(f\"{day} of the week\")"
      ],
      "metadata": {
        "colab": {
          "base_uri": "https://localhost:8080/"
        },
        "id": "bC8Q6uD4YSs5",
        "outputId": "8c7aecee-366a-466d-ad86-d9e92c9f3eb6"
      },
      "execution_count": null,
      "outputs": [
        {
          "output_type": "stream",
          "name": "stdout",
          "text": [
            "2 of the week\n",
            "3 of the week\n",
            "4 of the week\n",
            "5 of the week\n",
            "6 of the week\n",
            "7 of the week\n"
          ]
        }
      ]
    },
    {
      "cell_type": "code",
      "source": [
        "print(\"multiplication table\")\n",
        "for i in range(1, 6):\n",
        "  for j in range(1, 6):\n",
        "    product = i *j\n",
        "    print(f\"{i}x {j} ={product:2d}\",end=\" \")\n",
        "    print()"
      ],
      "metadata": {
        "colab": {
          "base_uri": "https://localhost:8080/"
        },
        "id": "pN-1N4cyYlCg",
        "outputId": "b66e862f-4165-4a44-cb72-c4764fa66002"
      },
      "execution_count": null,
      "outputs": [
        {
          "output_type": "stream",
          "name": "stdout",
          "text": [
            "multiplication table\n",
            "1x 1 = 1 \n",
            "1x 2 = 2 \n",
            "1x 3 = 3 \n",
            "1x 4 = 4 \n",
            "1x 5 = 5 \n",
            "2x 1 = 2 \n",
            "2x 2 = 4 \n",
            "2x 3 = 6 \n",
            "2x 4 = 8 \n",
            "2x 5 =10 \n",
            "3x 1 = 3 \n",
            "3x 2 = 6 \n",
            "3x 3 = 9 \n",
            "3x 4 =12 \n",
            "3x 5 =15 \n",
            "4x 1 = 4 \n",
            "4x 2 = 8 \n",
            "4x 3 =12 \n",
            "4x 4 =16 \n",
            "4x 5 =20 \n",
            "5x 1 = 5 \n",
            "5x 2 =10 \n",
            "5x 3 =15 \n",
            "5x 4 =20 \n",
            "5x 5 =25 \n"
          ]
        }
      ]
    },
    {
      "cell_type": "code",
      "source": [
        "sales_data = [\n",
        "    {'product\":\"laptop\",\"price\"':999,\"quantity\":5},\n",
        "    {'product\":\"phone\",\"price\"':599,\"quantity\":10},\n",
        "    {'product\":\"tablet\",\"price\"':599,\"quantity\":8}\n",
        "]"
      ],
      "metadata": {
        "id": "ySHEtsBfZQBp"
      },
      "execution_count": null,
      "outputs": []
    },
    {
      "cell_type": "code",
      "source": [
        "total_revenue = 0\n",
        "for item in sales_data:\n",
        "  item_revenue = item[\"price\"] * item[\"quantity\"]\n",
        "  total_revenue += item_revenue\n",
        "  print(f\"{item['product']}: ${item_revenue}\")\n",
        "\n",
        "  print(f\"Total Revenue: ${total_revenue}\")"
      ],
      "metadata": {
        "colab": {
          "base_uri": "https://localhost:8080/",
          "height": 211
        },
        "id": "7LnfWHUwtPYp",
        "outputId": "12324398-6332-49c6-cd90-f0398718b6ef"
      },
      "execution_count": null,
      "outputs": [
        {
          "output_type": "error",
          "ename": "KeyError",
          "evalue": "'price'",
          "traceback": [
            "\u001b[0;31m---------------------------------------------------------------------------\u001b[0m",
            "\u001b[0;31mKeyError\u001b[0m                                  Traceback (most recent call last)",
            "\u001b[0;32m/tmp/ipython-input-2066847825.py\u001b[0m in \u001b[0;36m<cell line: 0>\u001b[0;34m()\u001b[0m\n\u001b[1;32m      1\u001b[0m \u001b[0mtotal_revenue\u001b[0m \u001b[0;34m=\u001b[0m \u001b[0;36m0\u001b[0m\u001b[0;34m\u001b[0m\u001b[0;34m\u001b[0m\u001b[0m\n\u001b[1;32m      2\u001b[0m \u001b[0;32mfor\u001b[0m \u001b[0mitem\u001b[0m \u001b[0;32min\u001b[0m \u001b[0msales_data\u001b[0m\u001b[0;34m:\u001b[0m\u001b[0;34m\u001b[0m\u001b[0;34m\u001b[0m\u001b[0m\n\u001b[0;32m----> 3\u001b[0;31m   \u001b[0mitem_revenue\u001b[0m \u001b[0;34m=\u001b[0m \u001b[0mitem\u001b[0m\u001b[0;34m[\u001b[0m\u001b[0;34m\"price\"\u001b[0m\u001b[0;34m]\u001b[0m \u001b[0;34m*\u001b[0m \u001b[0mitem\u001b[0m\u001b[0;34m[\u001b[0m\u001b[0;34m\"quantity\"\u001b[0m\u001b[0;34m]\u001b[0m\u001b[0;34m\u001b[0m\u001b[0;34m\u001b[0m\u001b[0m\n\u001b[0m\u001b[1;32m      4\u001b[0m   \u001b[0mtotal_revenue\u001b[0m \u001b[0;34m+=\u001b[0m \u001b[0mitem_revenue\u001b[0m\u001b[0;34m\u001b[0m\u001b[0;34m\u001b[0m\u001b[0m\n\u001b[1;32m      5\u001b[0m   \u001b[0mprint\u001b[0m\u001b[0;34m(\u001b[0m\u001b[0;34mf\"{item['product']}: ${item_revenue}\"\u001b[0m\u001b[0;34m)\u001b[0m\u001b[0;34m\u001b[0m\u001b[0;34m\u001b[0m\u001b[0m\n",
            "\u001b[0;31mKeyError\u001b[0m: 'price'"
          ]
        }
      ]
    },
    {
      "cell_type": "code",
      "source": [
        "def simple_guessing_game():\n",
        "  target = 7\n",
        "  guess = 0\n",
        "  attempts = 0\n",
        "  print(\"guess the number between 1 and 10!\")\n",
        "\n",
        "  while guess != target:\n",
        "\n",
        "    import random\n",
        "    guess = random.randint(1,10)\n",
        "    attempts += 1\n",
        "\n",
        "    if guess < target:\n",
        "      print(f\"Guess {attempts}: {guess} - too low!\")\n",
        "    elif guess > target:\n",
        "      print(f\"Guess {attempts}: {guess} - too high!\")\n",
        "    else:\n",
        "      print(f\"Guess {attempts}:  { guess} - correct!\")\n",
        "\n",
        "\n",
        "      if attempts > 10:\n",
        "        print(\"max attempts reached:\")\n",
        "        break\n",
        "\n",
        "  print(f\"Game finished in {attempts} attempts\")\n",
        "\n",
        "simple_guessing_game()"
      ],
      "metadata": {
        "colab": {
          "base_uri": "https://localhost:8080/"
        },
        "id": "BkjiKo17uJMB",
        "outputId": "3d9b44a9-e214-4a9d-9409-d2a956b39e92"
      },
      "execution_count": null,
      "outputs": [
        {
          "output_type": "stream",
          "name": "stdout",
          "text": [
            "guess the number between 1 and 10!\n",
            "Guess 1: 6 - too low!\n",
            "Guess 2: 2 - too low!\n",
            "Guess 3: 4 - too low!\n",
            "Guess 4: 2 - too low!\n",
            "Guess 5: 2 - too low!\n",
            "Guess 6: 4 - too low!\n",
            "Guess 7: 3 - too low!\n",
            "Guess 8: 9 - too high!\n",
            "Guess 9: 8 - too high!\n",
            "Guess 10: 2 - too low!\n",
            "Guess 11:  7 - correct!\n",
            "max attempts reached:\n",
            "Game finished in 11 attempts\n"
          ]
        }
      ]
    },
    {
      "cell_type": "code",
      "source": [
        "def process_queue():\n",
        "  queue = [\"task 1\", \"task 2\", \"task 3\", \"task 4\"]\n",
        "\n",
        "\n",
        "  while queue:\n",
        "    current_task = queue.pop(0)\n",
        "    print(f\"processing: {current_task}\")\n",
        "\n",
        "    print(f\"remaining tasks: {len(queue)}\")\n",
        "\n",
        "\n",
        "  print(\"all tasks completed!\")\n",
        "\n",
        "process_queue()"
      ],
      "metadata": {
        "colab": {
          "base_uri": "https://localhost:8080/"
        },
        "id": "rTifaZZ6vw4p",
        "outputId": "8a7e2ea9-04b1-4288-ceb2-a00bc790949d"
      },
      "execution_count": null,
      "outputs": [
        {
          "output_type": "stream",
          "name": "stdout",
          "text": [
            "processing: task 1\n",
            "remaining tasks: 3\n",
            "processing: task 2\n",
            "remaining tasks: 2\n",
            "processing: task 3\n",
            "remaining tasks: 1\n",
            "processing: task 4\n",
            "remaining tasks: 0\n",
            "all tasks completed!\n"
          ]
        }
      ]
    },
    {
      "cell_type": "code",
      "source": [],
      "metadata": {
        "id": "GbH1DJwc1PYg"
      },
      "execution_count": null,
      "outputs": []
    },
    {
      "cell_type": "markdown",
      "source": [
        "function base\n"
      ],
      "metadata": {
        "id": "tT8CpaRr11Px"
      }
    },
    {
      "cell_type": "code",
      "source": [],
      "metadata": {
        "id": "I5g8lGoE15u_"
      },
      "execution_count": null,
      "outputs": []
    },
    {
      "cell_type": "code",
      "source": [
        "def greet(name):\n",
        "  return f\"hello,{name}!\""
      ],
      "metadata": {
        "id": "SwZgc3vi16cA"
      },
      "execution_count": null,
      "outputs": []
    },
    {
      "cell_type": "code",
      "source": [
        "message=greet(\"python message\")\n",
        "print(message)"
      ],
      "metadata": {
        "colab": {
          "base_uri": "https://localhost:8080/"
        },
        "id": "y61WQ12Z3944",
        "outputId": "7f2ec188-0110-4aca-b048-33ba21b48efd"
      },
      "execution_count": null,
      "outputs": [
        {
          "output_type": "stream",
          "name": "stdout",
          "text": [
            "hello,python message!\n"
          ]
        }
      ]
    },
    {
      "cell_type": "code",
      "source": [],
      "metadata": {
        "id": "ErO8iKIA4LTY"
      },
      "execution_count": null,
      "outputs": []
    },
    {
      "cell_type": "markdown",
      "source": [
        "function  with default parameter"
      ],
      "metadata": {
        "id": "ZJEo29bD6aQI"
      }
    },
    {
      "cell_type": "code",
      "source": [],
      "metadata": {
        "id": "V74MH_cw6hbI"
      },
      "execution_count": null,
      "outputs": []
    },
    {
      "cell_type": "code",
      "source": [
        "def create_user_profile(name,age=18,location=\"unknown\",active=\"max\"):\n",
        "  return {\n",
        "      \"name\":name,\n",
        "      \"age\":age,\n",
        "      \"location\":location,\n",
        "      \"active\":active\n",
        "  }"
      ],
      "metadata": {
        "id": "CQ74mkJq6jE4"
      },
      "execution_count": null,
      "outputs": []
    },
    {
      "cell_type": "code",
      "source": [],
      "metadata": {
        "id": "YmmYOe2G7fnI"
      },
      "execution_count": null,
      "outputs": []
    },
    {
      "cell_type": "markdown",
      "source": [
        "function returning multiple values\n"
      ],
      "metadata": {
        "id": "BLcyPAou9Hzg"
      }
    },
    {
      "cell_type": "code",
      "source": [],
      "metadata": {
        "id": "grjlevHA9Muv"
      },
      "execution_count": null,
      "outputs": []
    },
    {
      "cell_type": "code",
      "source": [
        "def analyze_text(text):\n",
        " word - text.split()\n",
        " word_count = len(words)\n",
        " char_count = len(text)\n",
        " char_count_no_space = len(text,replace(\" \",\"\"))\n",
        "\n",
        " return word_count, char_count, char_count_no_spaces\n",
        "\n",
        "\n"
      ],
      "metadata": {
        "id": "XHR51Cem9Nmf"
      },
      "execution_count": null,
      "outputs": []
    },
    {
      "cell_type": "code",
      "source": [],
      "metadata": {
        "id": "js1qANGc-NGA"
      },
      "execution_count": null,
      "outputs": []
    },
    {
      "cell_type": "markdown",
      "source": [
        "keyword argument"
      ],
      "metadata": {
        "id": "wOqcs_3JB27Q"
      }
    },
    {
      "cell_type": "code",
      "source": [
        "def create_report(**data):\n",
        "  print(\"=== REPORT ===\")\n",
        "\n",
        "  for key, value in data.items():\n",
        "    print(f\"{key.replace('_',' ').title()}: {value}\")\n",
        "\n",
        "  print(\"==================\")\n",
        "\n",
        "create_report (\n",
        "          title=\"monthly sales report\",\n",
        "          date=\"2024-01-01\",\n",
        "          total_sales=15000,\n",
        "          new_customers=25,\n",
        "          returning_customers=150\n",
        "      )\n",
        "\n"
      ],
      "metadata": {
        "colab": {
          "base_uri": "https://localhost:8080/"
        },
        "id": "YUQkjeOHB51f",
        "outputId": "baf8b65a-23ea-4fd3-ea73-3f2bfad0e248"
      },
      "execution_count": null,
      "outputs": [
        {
          "output_type": "stream",
          "name": "stdout",
          "text": [
            "=== REPORT ===\n",
            "Title: monthly sales report\n",
            "Date: 2024-01-01\n",
            "Total Sales: 15000\n",
            "New Customers: 25\n",
            "Returning Customers: 150\n",
            "==================\n"
          ]
        }
      ]
    },
    {
      "cell_type": "code",
      "source": [],
      "metadata": {
        "id": "8JNP6gTzErZf"
      },
      "execution_count": null,
      "outputs": []
    },
    {
      "cell_type": "markdown",
      "source": [
        "regular function"
      ],
      "metadata": {
        "id": "Qw9CevpEGBIf"
      }
    },
    {
      "cell_type": "code",
      "source": [],
      "metadata": {
        "id": "CyMalEfaGEYe"
      },
      "execution_count": null,
      "outputs": []
    },
    {
      "cell_type": "code",
      "source": [
        "def square(x):\n",
        "  return x ** 2"
      ],
      "metadata": {
        "id": "zFXSAOLKGFOe"
      },
      "execution_count": null,
      "outputs": []
    },
    {
      "cell_type": "code",
      "source": [],
      "metadata": {
        "id": "rCoFyLDHGLfX"
      },
      "execution_count": null,
      "outputs": []
    },
    {
      "cell_type": "markdown",
      "source": [
        "lambda equivalent"
      ],
      "metadata": {
        "id": "Jui2UD_lGPRn"
      }
    },
    {
      "cell_type": "code",
      "source": [],
      "metadata": {
        "id": "b2sniZToGUA-"
      },
      "execution_count": null,
      "outputs": []
    },
    {
      "cell_type": "code",
      "source": [
        "square_lambda = lambda X: X ** 2\n",
        "print(f\"Regular function: {square(5)}\")\n",
        "print(f\"Lambda function:  {square_lambda(5)}\")"
      ],
      "metadata": {
        "colab": {
          "base_uri": "https://localhost:8080/"
        },
        "id": "k7nhudViGU6X",
        "outputId": "5e3860b9-10d1-44c2-934f-35bc363afb61"
      },
      "execution_count": null,
      "outputs": [
        {
          "output_type": "stream",
          "name": "stdout",
          "text": [
            "Regular function: 25\n",
            "Lambda function:  25\n"
          ]
        }
      ]
    },
    {
      "cell_type": "code",
      "source": [
        "multiply = lambda x,y: x*y\n",
        "print(f\"multiply: {multiply(3, 4)}\")"
      ],
      "metadata": {
        "colab": {
          "base_uri": "https://localhost:8080/"
        },
        "id": "a5DbblUHHFY3",
        "outputId": "728e710f-9eb8-45b2-d397-4c6165e123c1"
      },
      "execution_count": null,
      "outputs": [
        {
          "output_type": "stream",
          "name": "stdout",
          "text": [
            "multiply: 12\n"
          ]
        }
      ]
    },
    {
      "cell_type": "code",
      "source": [
        "numbers = [1,2,3,4,5]\n",
        "squared = list(map(lambda x: x**2, numbers))\n",
        "print(f\"squared numbers: {squared}\")"
      ],
      "metadata": {
        "colab": {
          "base_uri": "https://localhost:8080/"
        },
        "id": "rj_B5XQGHuk2",
        "outputId": "a5c144b2-d1df-4c1f-aca5-987492f00225"
      },
      "execution_count": null,
      "outputs": [
        {
          "output_type": "stream",
          "name": "stdout",
          "text": [
            "squared numbers: [1, 4, 9, 16, 25]\n"
          ]
        }
      ]
    },
    {
      "cell_type": "code",
      "source": [],
      "metadata": {
        "id": "A66rxEDqIheu"
      },
      "execution_count": null,
      "outputs": []
    },
    {
      "cell_type": "markdown",
      "source": [
        "filtering with lambda"
      ],
      "metadata": {
        "id": "oHZdVH6yIj2X"
      }
    },
    {
      "cell_type": "code",
      "source": [],
      "metadata": {
        "id": "M0bfjD_QImkO"
      },
      "execution_count": null,
      "outputs": []
    },
    {
      "cell_type": "code",
      "source": [
        "ages = [16, 21, 35, 12, 45, 18, 67]\n",
        "adults = list(filter(lambda age:  age >= 18,ages))\n",
        "print(f\"adult ages: {adults}\")"
      ],
      "metadata": {
        "colab": {
          "base_uri": "https://localhost:8080/"
        },
        "id": "ssipWbsXInUo",
        "outputId": "53a7376e-4e9d-4af2-8ec1-47cd2ac6af4f"
      },
      "execution_count": null,
      "outputs": [
        {
          "output_type": "stream",
          "name": "stdout",
          "text": [
            "adult ages: [21, 35, 45, 18, 67]\n"
          ]
        }
      ]
    },
    {
      "cell_type": "code",
      "source": [
        "people = {\n",
        "    {\"name\": \"anu\", \"age\": 30},\n",
        "     {\"name\": \"bob\", \"age\": 25},\n",
        "     {\"name\": \"tanu\", \"age\": 30},\n",
        "\n",
        "}\n",
        "\n",
        "sorted_people = sorted{\n",
        "    people,\n",
        "    key-lambda person: person[\"age\"])\n",
        " print(\"people sorted by age:\")\n",
        "\n",
        " for person in sorted_people:\n",
        "    print(f\" {person['name']): {person['age']}\")\n",
        "}"
      ],
      "metadata": {
        "colab": {
          "base_uri": "https://localhost:8080/",
          "height": 106
        },
        "id": "H28ggQwqKlKO",
        "outputId": "ce94fd72-805b-4d4f-fe28-b77c90ef6a1a"
      },
      "execution_count": null,
      "outputs": [
        {
          "output_type": "error",
          "ename": "SyntaxError",
          "evalue": "closing parenthesis ')' does not match opening parenthesis '{' on line 8 (ipython-input-1790059547.py, line 10)",
          "traceback": [
            "\u001b[0;36m  File \u001b[0;32m\"/tmp/ipython-input-1790059547.py\"\u001b[0;36m, line \u001b[0;32m10\u001b[0m\n\u001b[0;31m    key-lambda person: person[\"age\"])\u001b[0m\n\u001b[0m                                    ^\u001b[0m\n\u001b[0;31mSyntaxError\u001b[0m\u001b[0;31m:\u001b[0m closing parenthesis ')' does not match opening parenthesis '{' on line 8\n"
          ]
        }
      ]
    },
    {
      "cell_type": "code",
      "source": [],
      "metadata": {
        "id": "MrIjf015Meuu"
      },
      "execution_count": null,
      "outputs": []
    }
  ]
}